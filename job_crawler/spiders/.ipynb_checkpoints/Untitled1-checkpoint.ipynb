{
 "cells": [
  {
   "cell_type": "code",
   "execution_count": null,
   "metadata": {},
   "outputs": [],
   "source": [
    "import scrapy\n",
    "from scrapy.selector import Selector"
   ]
  },
  {
   "cell_type": "code",
   "execution_count": null,
   "metadata": {},
   "outputs": [],
   "source": [
    "class Spider104(scrapy.Spider):\n",
    "    name='crawler104'\n",
    "    data = {\n",
    "        'ro': 0,\n",
    "        'kwop': 7,\n",
    "        'keyword': 'python',\n",
    "        'order': 1,\n",
    "        'asc': 0,\n",
    "        'page': 1,\n",
    "        'mode': 'l',  # 's' & 'l'\n",
    "        'jobsource': '2018indexpoc'\n",
    "    }\n",
    "    start_urls = ['https://www.104.com.tw/jobs/search/?' + urlencode(data)]\n",
    "    def parse(self, response):\n",
    "        selector = Selector(response)\n",
    "        jobname = selector.css('.js-job-link').xpath('@title').extract()\n",
    "        jobdate = selector.css('.job-mode__date::text').extract()[1:]\n",
    "        jobcompany = selector.css('.job-mode__company').css('a::text').extract()\n",
    "        jobexp = selector.css('.job-mode__exp::text').extract()[1:]\n",
    "        jobedu = selector.css('.job-mode__edu::text').extract()[1:]\n",
    "        jobarea = selector.css('.job-mode__area::text').extract()[1:]\n",
    "        for i in range(len(jobname)):\n",
    "            print(jobname[i], jobdate[i], jobcompany[i], jobexp[i], jobedu[i], jobarea[i])"
   ]
  },
  {
   "cell_type": "markdown",
   "metadata": {},
   "source": [
    "# TEST"
   ]
  },
  {
   "cell_type": "code",
   "execution_count": 1,
   "metadata": {},
   "outputs": [],
   "source": [
    "import scrapy\n",
    "from scrapy.selector import Selector\n",
    "import requests\n",
    "from urllib.parse import urlencode\n",
    "from requests.exceptions import RequestException\n",
    "from selenium import webdriver\n",
    "from selenium.webdriver.chrome.options import Options"
   ]
  },
  {
   "cell_type": "code",
   "execution_count": 2,
   "metadata": {},
   "outputs": [],
   "source": [
    "def get_page_index(page, keyword):\n",
    "    data = {\n",
    "        'ro': 0,\n",
    "        'kwop': 7,\n",
    "        'keyword': keyword,\n",
    "        'order': 1,\n",
    "        'asc': 0,\n",
    "        'page': page,\n",
    "        'mode': 'l',  # 's' & 'l'\n",
    "        'jobsource': '2018indexpoc'\n",
    "    }\n",
    "    url = 'https://www.104.com.tw/jobs/search/?' + urlencode(data)\n",
    "    try:\n",
    "        response = requests.get(url)\n",
    "        if response.status_code == 200:\n",
    "            return response\n",
    "        return None\n",
    "    except RequestException:\n",
    "        print('Error')\n",
    "        return None"
   ]
  },
  {
   "cell_type": "code",
   "execution_count": null,
   "metadata": {},
   "outputs": [],
   "source": [
    "response = get_page_index(1,'golang')"
   ]
  },
  {
   "cell_type": "code",
   "execution_count": null,
   "metadata": {},
   "outputs": [],
   "source": [
    "selector = Selector(response)\n",
    "# selector.xpath('//li[re:test(@class, \"job-mode__\\n$\")]').extract()\n",
    "jobname = selector.css('.job-mode__jobname').css('.js-job-link').xpath('@title').extract()\n",
    "jobdate = selector.css('.job-mode__date::text').extract()\n",
    "len(jobname)"
   ]
  },
  {
   "cell_type": "code",
   "execution_count": null,
   "metadata": {},
   "outputs": [],
   "source": [
    "selector.css('.job-mode__candidates').extract()"
   ]
  },
  {
   "cell_type": "code",
   "execution_count": 3,
   "metadata": {},
   "outputs": [],
   "source": [
    "import pandas as pd"
   ]
  },
  {
   "cell_type": "code",
   "execution_count": null,
   "metadata": {},
   "outputs": [],
   "source": [
    "pd.read_json(r'C:\\Users\\Jiasi\\Desktop\\job_crawler\\crawler104.json')"
   ]
  },
  {
   "cell_type": "code",
   "execution_count": null,
   "metadata": {},
   "outputs": [],
   "source": [
    "def url_get(page_n):\n",
    "    data = {\n",
    "        'ro': 0,\n",
    "        'kwop': 7,\n",
    "        'keyword': 'golang',\n",
    "        'order': 1,\n",
    "        'asc': 0,\n",
    "        'page': page_n,\n",
    "        'mode': 'l',  # 's' & 'l'\n",
    "        'jobsource': '2018indexpoc'\n",
    "    }\n",
    "    urls = 'https://www.104.com.tw/jobs/search/?' + urlencode(data)\n",
    "    return urls"
   ]
  },
  {
   "cell_type": "code",
   "execution_count": null,
   "metadata": {},
   "outputs": [],
   "source": [
    "driver = webdriver.Chrome(r'D:\\chromedrive\\chromedriver.exe')\n",
    "driver.get()"
   ]
  }
 ],
 "metadata": {
  "kernelspec": {
   "display_name": "Python 3",
   "language": "python",
   "name": "python3"
  },
  "language_info": {
   "codemirror_mode": {
    "name": "ipython",
    "version": 3
   },
   "file_extension": ".py",
   "mimetype": "text/x-python",
   "name": "python",
   "nbconvert_exporter": "python",
   "pygments_lexer": "ipython3",
   "version": "3.6.8"
  }
 },
 "nbformat": 4,
 "nbformat_minor": 2
}
