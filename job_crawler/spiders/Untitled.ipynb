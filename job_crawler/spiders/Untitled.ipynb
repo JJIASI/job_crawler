{
 "cells": [
  {
   "cell_type": "markdown",
   "metadata": {},
   "source": [
    "# 1111 job_crawler"
   ]
  },
  {
   "cell_type": "code",
   "execution_count": 1,
   "metadata": {},
   "outputs": [],
   "source": [
    "import scrapy\n",
    "from scrapy.selector import Selector\n",
    "import requests\n",
    "from urllib.parse import urlencode\n",
    "from requests.exceptions import RequestException"
   ]
  },
  {
   "cell_type": "code",
   "execution_count": 2,
   "metadata": {},
   "outputs": [],
   "source": [
    "def get_page_index(page, keyword):\n",
    "    data = {\n",
    "        'si': 1,\n",
    "        'ss': 'l',\n",
    "        'ks': keyword, \n",
    "        'pt': 0,\n",
    "        'page': page\n",
    "\n",
    "    }\n",
    "    url = 'https://www.1111.com.tw/job-bank/job-index.asp?' + urlencode(data)\n",
    "    try:\n",
    "        response = requests.get(url)\n",
    "        if response.status_code == 200:\n",
    "            return response\n",
    "        return None\n",
    "    except RequestException:\n",
    "        print('Error')\n",
    "        return None"
   ]
  },
  {
   "cell_type": "code",
   "execution_count": 11,
   "metadata": {},
   "outputs": [],
   "source": [
    "response = get_page_index(1,'golang')"
   ]
  },
  {
   "cell_type": "code",
   "execution_count": 12,
   "metadata": {},
   "outputs": [
    {
     "data": {
      "text/plain": [
       "20"
      ]
     },
     "execution_count": 12,
     "metadata": {},
     "output_type": "execute_result"
    }
   ],
   "source": [
    "selector = Selector(response)\n",
    "jobsalary = selector.css('.mnone::text').extract()\n",
    "jobname = selector.css('.mobiFullLInk').xpath('@title').extract()\n",
    "jobcompany = selector.xpath('//h4/a/text()').extract()\n",
    "jobexp = selector.css('.needs').xpath('text()[1]').extract()\n",
    "jobedu = selector.css('.needs').xpath('text()[2]').extract()\n",
    "jobarea = selector.css('.location>a::text').extract()\n",
    "jobindcat = selector.css('.csort>a::text').extract()\n",
    "jobdate = selector.css('.date>span::text').extract()\n",
    "jobapply = selector.css('.recruit>a::text').extract()\n",
    "len(jobname)"
   ]
  },
  {
   "cell_type": "code",
   "execution_count": 51,
   "metadata": {},
   "outputs": [
    {
     "data": {
      "text/plain": [
       "'0'"
      ]
     },
     "execution_count": 51,
     "metadata": {},
     "output_type": "execute_result"
    }
   ],
   "source": [
    "jobapply[0].split('~')[0].strip()"
   ]
  },
  {
   "cell_type": "code",
   "execution_count": null,
   "metadata": {},
   "outputs": [],
   "source": []
  }
 ],
 "metadata": {
  "kernelspec": {
   "display_name": "Python 3",
   "language": "python",
   "name": "python3"
  },
  "language_info": {
   "codemirror_mode": {
    "name": "ipython",
    "version": 3
   },
   "file_extension": ".py",
   "mimetype": "text/x-python",
   "name": "python",
   "nbconvert_exporter": "python",
   "pygments_lexer": "ipython3",
   "version": "3.6.8"
  }
 },
 "nbformat": 4,
 "nbformat_minor": 2
}
